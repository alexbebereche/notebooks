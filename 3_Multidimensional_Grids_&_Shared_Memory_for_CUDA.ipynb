{
  "metadata": {
    "kernelspec": {
      "language": "python",
      "display_name": "Python 3",
      "name": "python3"
    },
    "language_info": {
      "pygments_lexer": "ipython3",
      "nbconvert_exporter": "python",
      "version": "3.6.4",
      "file_extension": ".py",
      "codemirror_mode": {
        "name": "ipython",
        "version": 3
      },
      "name": "python",
      "mimetype": "text/x-python"
    },
    "colab": {
      "name": "3-Multidimensional Grids & Shared Memory for CUDA",
      "provenance": [],
      "include_colab_link": true
    }
  },
  "nbformat_minor": 0,
  "nbformat": 4,
  "cells": [
    {
      "cell_type": "markdown",
      "metadata": {
        "id": "view-in-github",
        "colab_type": "text"
      },
      "source": [
        "<a href=\"https://colab.research.google.com/github/alexbebereche/notebooks/blob/main/3_Multidimensional_Grids_%26_Shared_Memory_for_CUDA.ipynb\" target=\"_parent\"><img src=\"https://colab.research.google.com/assets/colab-badge.svg\" alt=\"Open In Colab\"/></a>"
      ]
    },
    {
      "cell_type": "markdown",
      "source": [
        "**This is a 3 Notebook Series on:**\n",
        "# Fundamental of Accelerated Computing with CUDA Python\n",
        "In this 3 Notebook Series you will learn about:\n",
        "1. [Introduction to CUDA Python with Numba](https://www.kaggle.com/harshwalia/1-introduction-to-cuda-python-with-numba)\n",
        "2. [Custom CUDA Kernels in Python with Numba](https://www.kaggle.com/harshwalia/2-custom-cuda-kernels-in-python-with-numba)\n",
        "3. [Multidimensional Grids and Shared Memory for CUDA Python with Numba](https://www.kaggle.com/harshwalia/3-multidimensional-grids-shared-memory-for-cuda)"
      ],
      "metadata": {
        "id": "CKHZoMhRVDXd"
      }
    },
    {
      "cell_type": "markdown",
      "source": [
        "![image.png](attachment:70810d3a-d5c9-4682-989d-3843cf3eb977.png)"
      ],
      "metadata": {
        "id": "10fJObNzVDXh"
      }
    },
    {
      "cell_type": "markdown",
      "source": [
        "If you Gain some knowledge then **Please Upvote**\n",
        "\n",
        "Thanks to NVIDIA Deeplearning Institute for such a Good Content."
      ],
      "metadata": {
        "id": "u2CWl-nxVDXh"
      }
    },
    {
      "cell_type": "markdown",
      "source": [
        "# 3-Multidimensional Grids & Shared Memory for CUDA"
      ],
      "metadata": {
        "id": "zGN_wHAZVDXh"
      }
    },
    {
      "cell_type": "markdown",
      "source": [
        "Now that you can write correct CUDA kernels, and understand the importance of launching grids that give the GPU sufficient opportunity to hide latency, you are going to learn techniques to effectively utilize GPU memory subsystems. These techniques are widely applicable to a variety of CUDA applications, and some of the most important when it comes time to make your CUDA code go fast.\n",
        "\n",
        "You are going to begin by learning about memory coalescing. To challenge your ability to reason about memory coalescing, and to expose important details relevent to many CUDA applications, you will then learn about 2-dimensional grids and thread blocks. Next you will learn about a very fast, user-controlled, on-demand memory space called shared memory, and will use shared memory to facilitate memory coalescing where it would not have otherwise been possible. Finally, you will learn about shared memory bank conflicts, which can spoil the performance possibilities of using shared memory, and a technique to address them."
      ],
      "metadata": {
        "id": "cHTrmLFxVDXi"
      }
    },
    {
      "cell_type": "markdown",
      "source": [
        "## Objectives"
      ],
      "metadata": {
        "id": "1G-D6zJ5VDXi"
      }
    },
    {
      "cell_type": "markdown",
      "source": [
        "By the time you complete this section, you will be able to:\n",
        "* Write CUDA kernels that benefit from coalesced memory access patterns.\n",
        "* Work with multi-dimensional grids and thread blocks.\n",
        "* Use shared memory to coordinate threads within a block.\n",
        "* Use shared memory to facilitate coalesced memory access patterns.\n",
        "* Resolve shared memory bank conflicts."
      ],
      "metadata": {
        "id": "5ePlg0spVDXj"
      }
    },
    {
      "cell_type": "markdown",
      "source": [
        "## The Problem: Uncoalesced Memory Access Hurts Performance"
      ],
      "metadata": {
        "id": "nKNRef_GVDXj"
      }
    },
    {
      "cell_type": "markdown",
      "source": [
        "Before you learn the details about what **coalesced memory access** is, run the following cells to observe the performance implications for a seemingly trivial change to the data access pattern within a kernel."
      ],
      "metadata": {
        "id": "-saGIAGjVDXj"
      }
    },
    {
      "cell_type": "markdown",
      "source": [
        "### Imports"
      ],
      "metadata": {
        "id": "MpQpzzecVDXj"
      }
    },
    {
      "cell_type": "code",
      "source": [
        "import numpy as np\n",
        "from numba import cuda"
      ],
      "metadata": {
        "execution": {
          "iopub.status.busy": "2021-09-25T04:12:23.740522Z",
          "iopub.execute_input": "2021-09-25T04:12:23.740816Z",
          "iopub.status.idle": "2021-09-25T04:12:24.56941Z",
          "shell.execute_reply.started": "2021-09-25T04:12:23.740739Z",
          "shell.execute_reply": "2021-09-25T04:12:24.568479Z"
        },
        "trusted": true,
        "id": "2c2swlcuVDXk"
      },
      "execution_count": null,
      "outputs": []
    },
    {
      "cell_type": "markdown",
      "source": [
        "### Data Creation"
      ],
      "metadata": {
        "id": "mWIKYXG-VDXk"
      }
    },
    {
      "cell_type": "markdown",
      "source": [
        "In this cell we define `n` and create a grid with threads equal to `n`. We also create an output vector with length `n`. For the inputs we create vectors of size `stride * n` for reasons that will be made clear below:"
      ],
      "metadata": {
        "id": "u3u328NhVDXl"
      }
    },
    {
      "cell_type": "code",
      "source": [
        "n = 1024*1024 # 1M\n",
        "\n",
        "threads_per_block = 1024\n",
        "blocks = int(n / threads_per_block)\n",
        "\n",
        "stride = 16\n",
        "\n",
        "# Input Vectors of length stride * n\n",
        "a = np.ones(stride * n).astype(np.float32)\n",
        "b = a.copy().astype(np.float32)\n",
        "\n",
        "# Output Vector\n",
        "out = np.zeros(n).astype(np.float32)\n",
        "\n",
        "d_a = cuda.to_device(a)\n",
        "d_b = cuda.to_device(b)\n",
        "d_out = cuda.to_device(out)"
      ],
      "metadata": {
        "execution": {
          "iopub.status.busy": "2021-09-25T04:12:24.572792Z",
          "iopub.execute_input": "2021-09-25T04:12:24.573007Z",
          "iopub.status.idle": "2021-09-25T04:12:24.887753Z",
          "shell.execute_reply.started": "2021-09-25T04:12:24.572979Z",
          "shell.execute_reply": "2021-09-25T04:12:24.886756Z"
        },
        "trusted": true,
        "id": "Ge3Q6VDcVDXl"
      },
      "execution_count": null,
      "outputs": []
    },
    {
      "cell_type": "markdown",
      "source": [
        "### Kernel Definition"
      ],
      "metadata": {
        "id": "MqQgX66SVDXl"
      }
    },
    {
      "cell_type": "markdown",
      "source": [
        "In `add_experiment`, every thread in the grid will add an item in `a`, and an item in `b` and write the result to `out`. The kernel has been written such that we can pass a `coalesced` value of either `True` or `False` to affect how it indexes into the `a` and `b` vectors. You will see the performance comparison of the two modes below."
      ],
      "metadata": {
        "id": "6P13ztUsVDXl"
      }
    },
    {
      "cell_type": "code",
      "source": [
        "@cuda.jit\n",
        "def add_experiment(a, b, out, stride, coalesced):\n",
        "    i = cuda.grid(1)\n",
        "    # The above line is equivalent to\n",
        "    # i = cuda.blockIdx.x * cuda.blockDim.x + cuda.threadIdx.x\n",
        "    if coalesced == True:\n",
        "        out[i] = a[i] + b[i]\n",
        "    else:\n",
        "        out[i] = a[stride*i] + b[stride*i]"
      ],
      "metadata": {
        "execution": {
          "iopub.status.busy": "2021-09-25T04:12:24.888929Z",
          "iopub.execute_input": "2021-09-25T04:12:24.88919Z",
          "iopub.status.idle": "2021-09-25T04:12:24.8965Z",
          "shell.execute_reply.started": "2021-09-25T04:12:24.889158Z",
          "shell.execute_reply": "2021-09-25T04:12:24.895192Z"
        },
        "trusted": true,
        "id": "eSwTAnn8VDXl"
      },
      "execution_count": null,
      "outputs": []
    },
    {
      "cell_type": "markdown",
      "source": [
        "### Launch Kernel Using Coalesced Access"
      ],
      "metadata": {
        "id": "qdjHTrXtVDXm"
      }
    },
    {
      "cell_type": "markdown",
      "source": [
        "Here we pass `True` as the `coalesced` value, and observe the performance of the kernel over several runs:"
      ],
      "metadata": {
        "id": "r19-4qYnVDXm"
      }
    },
    {
      "cell_type": "code",
      "source": [
        "%timeit add_experiment[blocks, threads_per_block](d_a, d_b, d_out, stride, True); cuda.synchronize"
      ],
      "metadata": {
        "scrolled": true,
        "execution": {
          "iopub.status.busy": "2021-09-25T04:12:24.898601Z",
          "iopub.execute_input": "2021-09-25T04:12:24.898953Z",
          "iopub.status.idle": "2021-09-25T04:12:25.480967Z",
          "shell.execute_reply.started": "2021-09-25T04:12:24.89892Z",
          "shell.execute_reply": "2021-09-25T04:12:25.480239Z"
        },
        "trusted": true,
        "id": "whTtBNzpVDXm"
      },
      "execution_count": null,
      "outputs": []
    },
    {
      "cell_type": "markdown",
      "source": [
        "Here we make sure the kernel ran as expected:"
      ],
      "metadata": {
        "id": "003uoPvkVDXm"
      }
    },
    {
      "cell_type": "code",
      "source": [
        "result = d_out.copy_to_host()\n",
        "truth = a[:n] + b[:n]"
      ],
      "metadata": {
        "execution": {
          "iopub.status.busy": "2021-09-25T04:12:25.48244Z",
          "iopub.execute_input": "2021-09-25T04:12:25.482725Z",
          "iopub.status.idle": "2021-09-25T04:12:25.491856Z",
          "shell.execute_reply.started": "2021-09-25T04:12:25.482691Z",
          "shell.execute_reply": "2021-09-25T04:12:25.491181Z"
        },
        "trusted": true,
        "id": "UVqBYhSTVDXm"
      },
      "execution_count": null,
      "outputs": []
    },
    {
      "cell_type": "code",
      "source": [
        "np.array_equal(result, truth)"
      ],
      "metadata": {
        "scrolled": true,
        "execution": {
          "iopub.status.busy": "2021-09-25T04:12:25.493355Z",
          "iopub.execute_input": "2021-09-25T04:12:25.493666Z",
          "iopub.status.idle": "2021-09-25T04:12:25.503615Z",
          "shell.execute_reply.started": "2021-09-25T04:12:25.493634Z",
          "shell.execute_reply": "2021-09-25T04:12:25.502828Z"
        },
        "trusted": true,
        "id": "IYI2ey91VDXm"
      },
      "execution_count": null,
      "outputs": []
    },
    {
      "cell_type": "markdown",
      "source": [
        "### Launch Kernel Using Uncoalesced Access"
      ],
      "metadata": {
        "id": "IHngQVnCVDXn"
      }
    },
    {
      "cell_type": "markdown",
      "source": [
        "In this cell we pass `False`, to observe the perfomance of the uncoalesced data access pattern for `add_experiment`:"
      ],
      "metadata": {
        "id": "xkx40fzKVDXn"
      }
    },
    {
      "cell_type": "code",
      "source": [
        "%timeit add_experiment[blocks, threads_per_block](d_a, d_b, d_out, stride, False); cuda.synchronize"
      ],
      "metadata": {
        "execution": {
          "iopub.status.busy": "2021-09-25T04:12:25.505154Z",
          "iopub.execute_input": "2021-09-25T04:12:25.505436Z",
          "iopub.status.idle": "2021-09-25T04:12:36.110958Z",
          "shell.execute_reply.started": "2021-09-25T04:12:25.505402Z",
          "shell.execute_reply": "2021-09-25T04:12:36.1101Z"
        },
        "trusted": true,
        "id": "LSmEGwMMVDXn"
      },
      "execution_count": null,
      "outputs": []
    },
    {
      "cell_type": "markdown",
      "source": [
        "Here we make sure the kernel ran as expected:"
      ],
      "metadata": {
        "id": "9TGqlWI_VDXn"
      }
    },
    {
      "cell_type": "code",
      "source": [
        "result = d_out.copy_to_host()\n",
        "truth = a[::stride] + b[::stride]"
      ],
      "metadata": {
        "execution": {
          "iopub.status.busy": "2021-09-25T04:12:36.112315Z",
          "iopub.execute_input": "2021-09-25T04:12:36.11258Z",
          "iopub.status.idle": "2021-09-25T04:12:36.255277Z",
          "shell.execute_reply.started": "2021-09-25T04:12:36.112546Z",
          "shell.execute_reply": "2021-09-25T04:12:36.254661Z"
        },
        "trusted": true,
        "id": "j3YXWsAjVDXn"
      },
      "execution_count": null,
      "outputs": []
    },
    {
      "cell_type": "code",
      "source": [
        "np.array_equal(result, truth)"
      ],
      "metadata": {
        "execution": {
          "iopub.status.busy": "2021-09-25T04:12:36.256473Z",
          "iopub.execute_input": "2021-09-25T04:12:36.256717Z",
          "iopub.status.idle": "2021-09-25T04:12:36.263049Z",
          "shell.execute_reply.started": "2021-09-25T04:12:36.256686Z",
          "shell.execute_reply": "2021-09-25T04:12:36.262291Z"
        },
        "trusted": true,
        "id": "Yakb1JueVDXn"
      },
      "execution_count": null,
      "outputs": []
    },
    {
      "cell_type": "markdown",
      "source": [
        "### Results"
      ],
      "metadata": {
        "id": "ct3FXzKSVDXn"
      }
    },
    {
      "cell_type": "markdown",
      "source": [
        "The performance of the uncoalesced data access pattern was far worse. Now you will learn why, and how to think about data access patterns in your kernels to obtain high performing kernels."
      ],
      "metadata": {
        "id": "Namxk5s0VDXo"
      }
    },
    {
      "cell_type": "markdown",
      "source": [
        "## Presentation: Global Memory Coalescing"
      ],
      "metadata": {
        "id": "b4NQWALaVDXo"
      }
    },
    {
      "cell_type": "markdown",
      "source": [
        "Execute the following cell to load the slides, then click on \"Start Slide Show\" to make them full screen."
      ],
      "metadata": {
        "id": "2i5RrlgQVDXo"
      }
    },
    {
      "cell_type": "markdown",
      "source": [
        "`Please go through the slides first before Moving ahead this will explain you the concept of Global Memory Coalescing`"
      ],
      "metadata": {
        "id": "0iX6QHgAVDXo"
      }
    },
    {
      "cell_type": "code",
      "source": [
        "from IPython.display import IFrame\n",
        "IFrame('https://view.officeapps.live.com/op/view.aspx?src=https://developer.download.nvidia.com/training/courses/C-AC-02-V1/coalescing-v3.pptx', 800, 450)"
      ],
      "metadata": {
        "scrolled": true,
        "execution": {
          "iopub.status.busy": "2021-09-25T04:12:36.266376Z",
          "iopub.execute_input": "2021-09-25T04:12:36.266633Z",
          "iopub.status.idle": "2021-09-25T04:12:36.273413Z",
          "shell.execute_reply.started": "2021-09-25T04:12:36.266602Z",
          "shell.execute_reply": "2021-09-25T04:12:36.272495Z"
        },
        "trusted": true,
        "id": "nF-sfkMZVDXo"
      },
      "execution_count": null,
      "outputs": []
    },
    {
      "cell_type": "markdown",
      "source": [
        "> _**Footnote**: for additional details about global memory segment size across a variety of devices, and with regards to caching, see [The CUDA Best Practices Guide](https://docs.nvidia.com/cuda/cuda-c-best-practices-guide/index.html#coalesced-access-to-global-memory)._"
      ],
      "metadata": {
        "id": "2u4k019fVDXo"
      }
    },
    {
      "cell_type": "markdown",
      "source": [
        "## Exercise: Column and Row Sums"
      ],
      "metadata": {
        "id": "MPhK5dvVVDXp"
      }
    },
    {
      "cell_type": "markdown",
      "source": [
        "For this exercise you will be asked to write a column sums kernel that uses fully coalesced memory access patterns. To begin you will observe the performance of a row sums kernel that makes uncoalesced memory accesses."
      ],
      "metadata": {
        "id": "Xsn44Hl6VDXp"
      }
    },
    {
      "cell_type": "markdown",
      "source": [
        "### Row Sums"
      ],
      "metadata": {
        "id": "OzlrilxqVDXp"
      }
    },
    {
      "cell_type": "markdown",
      "source": [
        "**Imports**"
      ],
      "metadata": {
        "id": "ZhA6E_ZJVDXp"
      }
    },
    {
      "cell_type": "code",
      "source": [
        "import numpy as np\n",
        "from numba import cuda"
      ],
      "metadata": {
        "execution": {
          "iopub.status.busy": "2021-09-25T04:12:36.274911Z",
          "iopub.execute_input": "2021-09-25T04:12:36.275189Z",
          "iopub.status.idle": "2021-09-25T04:12:36.28116Z",
          "shell.execute_reply.started": "2021-09-25T04:12:36.275156Z",
          "shell.execute_reply": "2021-09-25T04:12:36.279997Z"
        },
        "trusted": true,
        "id": "O7YmfEzVVDXp"
      },
      "execution_count": null,
      "outputs": []
    },
    {
      "cell_type": "markdown",
      "source": [
        "**Data Creation**"
      ],
      "metadata": {
        "id": "qfpHUMcsVDXq"
      }
    },
    {
      "cell_type": "markdown",
      "source": [
        "In this cell we create an input matrix, as well as a vector for storing the solution, and transfer each of them to the device. We also define the grid and block dimensions to be used when we launch the kernel below. We set an arbitrary row of data to some arbitrary value to facilitate checking for correctness below."
      ],
      "metadata": {
        "id": "na6OfZhVVDXq"
      }
    },
    {
      "cell_type": "code",
      "source": [
        "n = 16384 # matrix side size\n",
        "threads_per_block = 256\n",
        "blocks = int(n / threads_per_block)\n",
        "\n",
        "# Input Matrix\n",
        "a = np.ones(n*n).reshape(n, n).astype(np.float32)\n",
        "# Here we set an arbitrary row to an arbitrary value to facilitate a check for correctness below.\n",
        "a[3] = 9\n",
        "\n",
        "# Output vector\n",
        "sums = np.zeros(n).astype(np.float32)\n",
        "\n",
        "d_a = cuda.to_device(a)\n",
        "d_sums = cuda.to_device(sums)"
      ],
      "metadata": {
        "execution": {
          "iopub.status.busy": "2021-09-25T04:12:36.282842Z",
          "iopub.execute_input": "2021-09-25T04:12:36.283114Z",
          "iopub.status.idle": "2021-09-25T04:12:37.48242Z",
          "shell.execute_reply.started": "2021-09-25T04:12:36.28308Z",
          "shell.execute_reply": "2021-09-25T04:12:37.48166Z"
        },
        "trusted": true,
        "id": "VvuCoE4uVDXq"
      },
      "execution_count": null,
      "outputs": []
    },
    {
      "cell_type": "markdown",
      "source": [
        "** Kernel Definition**"
      ],
      "metadata": {
        "id": "T7cyRgcPVDXq"
      }
    },
    {
      "cell_type": "markdown",
      "source": [
        "`row_sums` will use each thread to iterate over a row of data, summing it, and then store its row sum in `sums`."
      ],
      "metadata": {
        "id": "GAtSzbK2VDXr"
      }
    },
    {
      "cell_type": "code",
      "source": [
        "@cuda.jit\n",
        "def row_sums(a, sums, n):\n",
        "    idx = cuda.grid(1)\n",
        "    sum = 0.0\n",
        "\n",
        "    for i in range(n):\n",
        "        # Each thread will sum a row of `a`\n",
        "        sum += a[idx][i]\n",
        "\n",
        "    sums[idx] = sum"
      ],
      "metadata": {
        "execution": {
          "iopub.status.busy": "2021-09-25T04:12:37.48389Z",
          "iopub.execute_input": "2021-09-25T04:12:37.484458Z",
          "iopub.status.idle": "2021-09-25T04:12:37.489854Z",
          "shell.execute_reply.started": "2021-09-25T04:12:37.484423Z",
          "shell.execute_reply": "2021-09-25T04:12:37.489215Z"
        },
        "trusted": true,
        "id": "ByQn52jFVDXr"
      },
      "execution_count": null,
      "outputs": []
    },
    {
      "cell_type": "markdown",
      "source": [
        "**Row Sums Performance**"
      ],
      "metadata": {
        "id": "vCyXxHBgVDXr"
      }
    },
    {
      "cell_type": "code",
      "source": [
        "%timeit row_sums[blocks, threads_per_block](d_a, d_sums, n); cuda.synchronize()"
      ],
      "metadata": {
        "execution": {
          "iopub.status.busy": "2021-09-25T04:12:37.491314Z",
          "iopub.execute_input": "2021-09-25T04:12:37.491758Z",
          "iopub.status.idle": "2021-09-25T04:12:37.820476Z",
          "shell.execute_reply.started": "2021-09-25T04:12:37.491723Z",
          "shell.execute_reply": "2021-09-25T04:12:37.819145Z"
        },
        "trusted": true,
        "id": "yAK6vs2uVDXr"
      },
      "execution_count": null,
      "outputs": []
    },
    {
      "cell_type": "markdown",
      "source": [
        "**Check for Correctness**"
      ],
      "metadata": {
        "id": "OuAsEVjrVDXs"
      }
    },
    {
      "cell_type": "code",
      "source": [
        "result = d_sums.copy_to_host()\n",
        "truth = a.sum(axis=1)"
      ],
      "metadata": {
        "execution": {
          "iopub.status.busy": "2021-09-25T04:12:37.821835Z",
          "iopub.execute_input": "2021-09-25T04:12:37.822074Z",
          "iopub.status.idle": "2021-09-25T04:12:37.922423Z",
          "shell.execute_reply.started": "2021-09-25T04:12:37.822041Z",
          "shell.execute_reply": "2021-09-25T04:12:37.921783Z"
        },
        "trusted": true,
        "id": "tn6dY9c0VDXs"
      },
      "execution_count": null,
      "outputs": []
    },
    {
      "cell_type": "code",
      "source": [
        "np.array_equal(truth, result)"
      ],
      "metadata": {
        "execution": {
          "iopub.status.busy": "2021-09-25T04:12:37.923717Z",
          "iopub.execute_input": "2021-09-25T04:12:37.923975Z",
          "iopub.status.idle": "2021-09-25T04:12:37.929723Z",
          "shell.execute_reply.started": "2021-09-25T04:12:37.923941Z",
          "shell.execute_reply": "2021-09-25T04:12:37.929044Z"
        },
        "trusted": true,
        "id": "LBkkKSSLVDXs"
      },
      "execution_count": null,
      "outputs": []
    },
    {
      "cell_type": "markdown",
      "source": [
        "### Column Sums"
      ],
      "metadata": {
        "id": "dS94aCksVDXs"
      }
    },
    {
      "cell_type": "markdown",
      "source": [
        "**Imports**"
      ],
      "metadata": {
        "id": "mg129EFCVDXs"
      }
    },
    {
      "cell_type": "code",
      "source": [
        "import numpy as np\n",
        "from numba import cuda"
      ],
      "metadata": {
        "execution": {
          "iopub.status.busy": "2021-09-25T04:12:37.931274Z",
          "iopub.execute_input": "2021-09-25T04:12:37.931712Z",
          "iopub.status.idle": "2021-09-25T04:12:37.938921Z",
          "shell.execute_reply.started": "2021-09-25T04:12:37.931679Z",
          "shell.execute_reply": "2021-09-25T04:12:37.938185Z"
        },
        "trusted": true,
        "id": "Qhb7nFqPVDXt"
      },
      "execution_count": null,
      "outputs": []
    },
    {
      "cell_type": "markdown",
      "source": [
        "**Data Creation**"
      ],
      "metadata": {
        "id": "QXdaKI_RVDXt"
      }
    },
    {
      "cell_type": "markdown",
      "source": [
        "In this cell we create an input matrix, as well as a vector for storing the solution, and transfer each of them to the device. We also define the grid and block dimensions to be used when we launch the kernel below. We set an arbitrary column of data to some arbitrary value to facilitate checking for correctness below."
      ],
      "metadata": {
        "id": "J7vdnBwrVDXt"
      }
    },
    {
      "cell_type": "code",
      "source": [
        "n = 16384 # matrix side size\n",
        "threads_per_block = 256\n",
        "blocks = int(n / threads_per_block)\n",
        "\n",
        "a = np.ones(n*n).reshape(n, n).astype(np.float32)\n",
        "# Here we set an arbitrary column to an arbitrary value to facilitate a check for correctness below.\n",
        "a[:, 3] = 9\n",
        "sums = np.zeros(n).astype(np.float32)\n",
        "\n",
        "d_a = cuda.to_device(a)\n",
        "d_sums = cuda.to_device(sums)"
      ],
      "metadata": {
        "execution": {
          "iopub.status.busy": "2021-09-25T04:12:37.941785Z",
          "iopub.execute_input": "2021-09-25T04:12:37.942008Z",
          "iopub.status.idle": "2021-09-25T04:12:39.071143Z",
          "shell.execute_reply.started": "2021-09-25T04:12:37.941965Z",
          "shell.execute_reply": "2021-09-25T04:12:39.070416Z"
        },
        "trusted": true,
        "id": "lwzXfQ0xVDXt"
      },
      "execution_count": null,
      "outputs": []
    },
    {
      "cell_type": "markdown",
      "source": [
        "** Kernel Definition**"
      ],
      "metadata": {
        "id": "L4G5yYQyVDXt"
      }
    },
    {
      "cell_type": "markdown",
      "source": [
        "`col_sums` will use each thread to iterate over a column of data, summing it, and then store its column sum in `sums`."
      ],
      "metadata": {
        "id": "3zqonYKSVDXu"
      }
    },
    {
      "cell_type": "code",
      "source": [
        "@cuda.jit\n",
        "def col_sums(a, sums, ds):\n",
        "    # TODO: Write this kernel to store the sum of each column in matrix `a` to the `sums` vector.\n",
        "    idx = cuda.grid(1)\n",
        "    sum = 0.0\n",
        "\n",
        "    for i in range(ds):\n",
        "        # Each thread will sum a row of `a`\n",
        "        sum += a[i][idx]\n",
        "\n",
        "    sums[idx] = sum"
      ],
      "metadata": {
        "id": "rk58nxduVDXu"
      },
      "execution_count": null,
      "outputs": []
    },
    {
      "cell_type": "markdown",
      "source": [
        "**Check Performance**"
      ],
      "metadata": {
        "id": "ZwdTXwa7VDXu"
      }
    },
    {
      "cell_type": "markdown",
      "source": [
        "Assuming you have written `col_sums` to use coalesced access patterns, you should see a significant (almost 2x) speed up compared to the uncoalesced `row_sums` you ran above:"
      ],
      "metadata": {
        "id": "mTrEQt4YVDXu"
      }
    },
    {
      "cell_type": "code",
      "source": [
        "%timeit col_sums[blocks, threads_per_block](d_a, d_sums, n); cuda.synchronize()"
      ],
      "metadata": {
        "scrolled": true,
        "execution": {
          "iopub.status.busy": "2021-09-25T04:12:39.080404Z",
          "iopub.execute_input": "2021-09-25T04:12:39.080712Z",
          "iopub.status.idle": "2021-09-25T04:12:46.027192Z",
          "shell.execute_reply.started": "2021-09-25T04:12:39.080679Z",
          "shell.execute_reply": "2021-09-25T04:12:46.025809Z"
        },
        "trusted": true,
        "id": "vK9fzGFpVDXu"
      },
      "execution_count": null,
      "outputs": []
    },
    {
      "cell_type": "markdown",
      "source": [
        "**Check Correctness**"
      ],
      "metadata": {
        "id": "EuNWngTaVDXu"
      }
    },
    {
      "cell_type": "markdown",
      "source": [
        "Confirm your kernel is working as expected."
      ],
      "metadata": {
        "id": "hd1Vu4G1VDXv"
      }
    },
    {
      "cell_type": "code",
      "source": [
        "result = d_sums.copy_to_host()\n",
        "truth = a.sum(axis=0)"
      ],
      "metadata": {
        "execution": {
          "iopub.status.busy": "2021-09-25T04:12:46.028525Z",
          "iopub.execute_input": "2021-09-25T04:12:46.028941Z",
          "iopub.status.idle": "2021-09-25T04:12:46.138177Z",
          "shell.execute_reply.started": "2021-09-25T04:12:46.028905Z",
          "shell.execute_reply": "2021-09-25T04:12:46.137504Z"
        },
        "trusted": true,
        "id": "PQ9xVootVDXv"
      },
      "execution_count": null,
      "outputs": []
    },
    {
      "cell_type": "code",
      "source": [
        "np.array_equal(truth, result)"
      ],
      "metadata": {
        "scrolled": true,
        "execution": {
          "iopub.status.busy": "2021-09-25T04:12:46.139504Z",
          "iopub.execute_input": "2021-09-25T04:12:46.139752Z",
          "iopub.status.idle": "2021-09-25T04:12:46.145906Z",
          "shell.execute_reply.started": "2021-09-25T04:12:46.139721Z",
          "shell.execute_reply": "2021-09-25T04:12:46.145052Z"
        },
        "trusted": true,
        "id": "kFib-x-lVDXv"
      },
      "execution_count": null,
      "outputs": []
    },
    {
      "cell_type": "markdown",
      "source": [
        "## 2 and 3 Dimensional Blocks and Grids"
      ],
      "metadata": {
        "id": "iT5KuQ7UVDXw"
      }
    },
    {
      "cell_type": "markdown",
      "source": [
        "Both grids and blocks can be configured to contain a 2 or 3 dimensional collection of blocks or threads, respectively. This is done mostly as a matter of convenience for programmers who often work with 2 or 3 dimensional datasets. Here is a very trivial example to highlight the syntax. You may need to read *both* the kernel definition and its launch before the concept makes sense."
      ],
      "metadata": {
        "id": "1816-I9TVDXw"
      }
    },
    {
      "cell_type": "code",
      "source": [
        "import numpy as np\n",
        "from numba import cuda"
      ],
      "metadata": {
        "execution": {
          "iopub.status.busy": "2021-09-25T04:12:46.147419Z",
          "iopub.execute_input": "2021-09-25T04:12:46.14771Z",
          "iopub.status.idle": "2021-09-25T04:12:46.154923Z",
          "shell.execute_reply.started": "2021-09-25T04:12:46.147652Z",
          "shell.execute_reply": "2021-09-25T04:12:46.154276Z"
        },
        "trusted": true,
        "id": "IT5vF029VDXw"
      },
      "execution_count": null,
      "outputs": []
    },
    {
      "cell_type": "code",
      "source": [
        "A = np.zeros((4,4)) # A 4x4 Matrix of 0's\n",
        "d_A = cuda.to_device(A)\n",
        "\n",
        "# Here we create a 2D grid with 4 blocks in a 2x2 structure, each with 4 threads in a 2x2 structure\n",
        "# by using a Python tuple to signify grid and block dimensions.\n",
        "blocks = (2, 2)\n",
        "threads_per_block = (2, 2)"
      ],
      "metadata": {
        "execution": {
          "iopub.status.busy": "2021-09-25T04:12:46.156385Z",
          "iopub.execute_input": "2021-09-25T04:12:46.156639Z",
          "iopub.status.idle": "2021-09-25T04:12:46.16445Z",
          "shell.execute_reply.started": "2021-09-25T04:12:46.156609Z",
          "shell.execute_reply": "2021-09-25T04:12:46.163759Z"
        },
        "trusted": true,
        "id": "osEyPsRQVDXx"
      },
      "execution_count": null,
      "outputs": []
    },
    {
      "cell_type": "markdown",
      "source": [
        "This kernel will take an input matrix of 0s and write to each of its elements, its (x,y) coordinates within the grid in the format of `X.Y`:"
      ],
      "metadata": {
        "id": "9tnTyLTvVDXx"
      }
    },
    {
      "cell_type": "code",
      "source": [
        "@cuda.jit\n",
        "def get_2D_indices(A):\n",
        "    # By passing `2`, we get the thread's unique x and y coordinates in the 2D grid\n",
        "    x, y = cuda.grid(2)\n",
        "    # The above is equivalent to the following 2 lines of code:\n",
        "    # x = cuda.blockIdx.x * cuda.blockDim.x + cuda.threadIdx.x\n",
        "    # y = cuda.blockIdx.y * cuda.blockDim.y + cuda.threadIdx.y\n",
        "\n",
        "    # Write the x index followed by a decimal and the y index.\n",
        "    A[x][y] = x + y / 10"
      ],
      "metadata": {
        "execution": {
          "iopub.status.busy": "2021-09-25T04:12:46.165839Z",
          "iopub.execute_input": "2021-09-25T04:12:46.16603Z",
          "iopub.status.idle": "2021-09-25T04:12:46.173522Z",
          "shell.execute_reply.started": "2021-09-25T04:12:46.166004Z",
          "shell.execute_reply": "2021-09-25T04:12:46.172842Z"
        },
        "trusted": true,
        "id": "Ma8WJLZpVDXx"
      },
      "execution_count": null,
      "outputs": []
    },
    {
      "cell_type": "code",
      "source": [
        "get_2D_indices[blocks, threads_per_block](d_A)"
      ],
      "metadata": {
        "execution": {
          "iopub.status.busy": "2021-09-25T04:12:46.174696Z",
          "iopub.execute_input": "2021-09-25T04:12:46.175069Z",
          "iopub.status.idle": "2021-09-25T04:12:46.315266Z",
          "shell.execute_reply.started": "2021-09-25T04:12:46.175034Z",
          "shell.execute_reply": "2021-09-25T04:12:46.314459Z"
        },
        "trusted": true,
        "id": "gMP1PfVnVDXx"
      },
      "execution_count": null,
      "outputs": []
    },
    {
      "cell_type": "code",
      "source": [
        "result = d_A.copy_to_host()\n",
        "result"
      ],
      "metadata": {
        "execution": {
          "iopub.status.busy": "2021-09-25T04:12:46.317079Z",
          "iopub.execute_input": "2021-09-25T04:12:46.317556Z",
          "iopub.status.idle": "2021-09-25T04:12:46.324308Z",
          "shell.execute_reply.started": "2021-09-25T04:12:46.317522Z",
          "shell.execute_reply": "2021-09-25T04:12:46.32351Z"
        },
        "trusted": true,
        "id": "qT_N0nnCVDXx"
      },
      "execution_count": null,
      "outputs": []
    },
    {
      "cell_type": "markdown",
      "source": [
        "## Exercise: Coalesced 2-Dimensional Matrix Add"
      ],
      "metadata": {
        "id": "9-5f-VfAVDXx"
      }
    },
    {
      "cell_type": "markdown",
      "source": [
        "### Imports"
      ],
      "metadata": {
        "id": "cFiNznPMVDXy"
      }
    },
    {
      "cell_type": "code",
      "source": [
        "import numpy as np\n",
        "from numba import cuda"
      ],
      "metadata": {
        "execution": {
          "iopub.status.busy": "2021-09-25T04:12:46.329953Z",
          "iopub.execute_input": "2021-09-25T04:12:46.330149Z",
          "iopub.status.idle": "2021-09-25T04:12:46.334112Z",
          "shell.execute_reply.started": "2021-09-25T04:12:46.330127Z",
          "shell.execute_reply": "2021-09-25T04:12:46.333348Z"
        },
        "trusted": true,
        "id": "ToxTKl-oVDXy"
      },
      "execution_count": null,
      "outputs": []
    },
    {
      "cell_type": "markdown",
      "source": [
        "### Data Creation"
      ],
      "metadata": {
        "id": "9_b_ixGZVDXy"
      }
    },
    {
      "cell_type": "markdown",
      "source": [
        "In this cell we define 2048x2048 elmement input matrices `a` and `b`, as well as a 2048x2048 0-initialized output matrix. We copy these matrices to the device.\n",
        "\n",
        "We also define the 2-dimensional block and grid dimensions to be used below. Note that we are creating a grid with the same number of total threads as there are input and output elements, such that each thread in the grid will calculate the sum for a single element in the output matrix."
      ],
      "metadata": {
        "id": "IvHvhrZFVDXy"
      }
    },
    {
      "cell_type": "code",
      "source": [
        "n = 2048*2048 # 4M\n",
        "\n",
        "# 2D blocks\n",
        "threads_per_block = (32, 32)\n",
        "# 2D grid\n",
        "blocks = (64, 64)\n",
        "\n",
        "# 2048x2048 input matrices\n",
        "a = np.arange(n).reshape(2048,2048).astype(np.float32)\n",
        "b = a.copy().astype(np.float32)\n",
        "\n",
        "# 2048x2048 0-initialized output matrix\n",
        "out = np.zeros_like(a).astype(np.float32)\n",
        "\n",
        "d_a = cuda.to_device(a)\n",
        "d_b = cuda.to_device(b)\n",
        "d_out = cuda.to_device(out)"
      ],
      "metadata": {
        "execution": {
          "iopub.status.busy": "2021-09-25T04:12:46.33546Z",
          "iopub.execute_input": "2021-09-25T04:12:46.335958Z",
          "iopub.status.idle": "2021-09-25T04:12:46.394735Z",
          "shell.execute_reply.started": "2021-09-25T04:12:46.335925Z",
          "shell.execute_reply": "2021-09-25T04:12:46.393964Z"
        },
        "trusted": true,
        "id": "nzpW-42iVDXy"
      },
      "execution_count": null,
      "outputs": []
    },
    {
      "cell_type": "markdown",
      "source": [
        "### 2D Matrix Add"
      ],
      "metadata": {
        "id": "MMYiGS0eVDXz"
      }
    },
    {
      "cell_type": "markdown",
      "source": [
        "Your job is to complete the TODOs in `matrix_add` to correctly sum `a` and `b` into `out`. As a challenge to your understanding of coalesced access patterns, `matrix_add` will accept a `coalesced` boolean indicating whether the access patterns should be coalesced or not. Both modes (coalesced and uncoalesced) should produce correct results, however, you should observe significant speedups below when running with `coalesced` set to `True`.\n",
        "\n"
      ],
      "metadata": {
        "id": "q8XLFhKwVDXz"
      }
    },
    {
      "cell_type": "code",
      "source": [
        "@cuda.jit\n",
        "def matrix_add(a, b, out, coalesced):\n",
        "    # TODO: set x and y to index correctly such that each thread\n",
        "    # accesses one element in the data.\n",
        "    x, y = cuda.grid(2)\n",
        "\n",
        "    if coalesced == True:\n",
        "        # TODO: write the sum of one element in `a` and `b` to `out`\n",
        "        out[y][x] = a[y][x] + b[y][x]\n",
        "    else:\n",
        "        out[x][y] = a[x][y] + b[x][y]   # TODO: write the sum of one element in `a` and `b` to `out`\n",
        "                                        # using an uncoalesced memory access pattern."
      ],
      "metadata": {
        "execution": {
          "iopub.status.busy": "2021-09-25T04:12:46.395916Z",
          "iopub.execute_input": "2021-09-25T04:12:46.396293Z",
          "iopub.status.idle": "2021-09-25T04:12:46.40316Z",
          "shell.execute_reply.started": "2021-09-25T04:12:46.396243Z",
          "shell.execute_reply": "2021-09-25T04:12:46.402195Z"
        },
        "trusted": true,
        "id": "VEViNBkJVDXz"
      },
      "execution_count": null,
      "outputs": []
    },
    {
      "cell_type": "markdown",
      "source": [
        "### Check Performance"
      ],
      "metadata": {
        "id": "pBzh2hYlVDXz"
      }
    },
    {
      "cell_type": "markdown",
      "source": [
        "Run both cells below to launch `matrix_add` with both the coalesced and uncoalesced access patterns you wrote into it, and observe the performance difference. Additional cells have been provided to confirm the correctness of your kernel."
      ],
      "metadata": {
        "id": "6rHv16WFVDX0"
      }
    },
    {
      "cell_type": "markdown",
      "source": [
        "**Coalesced**"
      ],
      "metadata": {
        "id": "BNLX_2i2VDX0"
      }
    },
    {
      "cell_type": "code",
      "source": [
        "%timeit matrix_add[blocks, threads_per_block](d_a, d_b, d_out, True); cuda.synchronize"
      ],
      "metadata": {
        "execution": {
          "iopub.status.busy": "2021-09-25T04:12:46.404405Z",
          "iopub.execute_input": "2021-09-25T04:12:46.404686Z",
          "iopub.status.idle": "2021-09-25T04:12:55.552322Z",
          "shell.execute_reply.started": "2021-09-25T04:12:46.404654Z",
          "shell.execute_reply": "2021-09-25T04:12:55.551592Z"
        },
        "trusted": true,
        "id": "xT87KwU-VDX0"
      },
      "execution_count": null,
      "outputs": []
    },
    {
      "cell_type": "code",
      "source": [
        "result = d_out.copy_to_host()\n",
        "truth = a+b"
      ],
      "metadata": {
        "execution": {
          "iopub.status.busy": "2021-09-25T04:12:55.55361Z",
          "iopub.execute_input": "2021-09-25T04:12:55.553886Z",
          "iopub.status.idle": "2021-09-25T04:12:55.677402Z",
          "shell.execute_reply.started": "2021-09-25T04:12:55.553851Z",
          "shell.execute_reply": "2021-09-25T04:12:55.676645Z"
        },
        "trusted": true,
        "id": "YDytihP6VDX0"
      },
      "execution_count": null,
      "outputs": []
    },
    {
      "cell_type": "code",
      "source": [
        "np.array_equal(result, truth)"
      ],
      "metadata": {
        "execution": {
          "iopub.status.busy": "2021-09-25T04:12:55.678659Z",
          "iopub.execute_input": "2021-09-25T04:12:55.679159Z",
          "iopub.status.idle": "2021-09-25T04:12:55.688638Z",
          "shell.execute_reply.started": "2021-09-25T04:12:55.679116Z",
          "shell.execute_reply": "2021-09-25T04:12:55.68773Z"
        },
        "trusted": true,
        "id": "3uRMd8YyVDX0"
      },
      "execution_count": null,
      "outputs": []
    },
    {
      "cell_type": "markdown",
      "source": [
        "**Uncoalesced**"
      ],
      "metadata": {
        "id": "3xD6yBCcVDX0"
      }
    },
    {
      "cell_type": "code",
      "source": [
        "%timeit matrix_add[blocks, threads_per_block](d_a, d_b, d_out, False); cuda.synchronize"
      ],
      "metadata": {
        "execution": {
          "iopub.status.busy": "2021-09-25T04:12:55.690237Z",
          "iopub.execute_input": "2021-09-25T04:12:55.690632Z",
          "iopub.status.idle": "2021-09-25T04:13:17.640398Z",
          "shell.execute_reply.started": "2021-09-25T04:12:55.69054Z",
          "shell.execute_reply": "2021-09-25T04:13:17.639627Z"
        },
        "trusted": true,
        "id": "XxWeBZIHVDX0"
      },
      "execution_count": null,
      "outputs": []
    },
    {
      "cell_type": "code",
      "source": [
        "result = d_out.copy_to_host()\n",
        "truth = a+b"
      ],
      "metadata": {
        "execution": {
          "iopub.status.busy": "2021-09-25T04:13:17.641508Z",
          "iopub.execute_input": "2021-09-25T04:13:17.642046Z",
          "iopub.status.idle": "2021-09-25T04:13:17.930892Z",
          "shell.execute_reply.started": "2021-09-25T04:13:17.642008Z",
          "shell.execute_reply": "2021-09-25T04:13:17.930294Z"
        },
        "trusted": true,
        "id": "JxiXeu3lVDX1"
      },
      "execution_count": null,
      "outputs": []
    },
    {
      "cell_type": "code",
      "source": [
        "np.array_equal(result, truth)"
      ],
      "metadata": {
        "execution": {
          "iopub.status.busy": "2021-09-25T04:13:17.931944Z",
          "iopub.execute_input": "2021-09-25T04:13:17.932278Z",
          "iopub.status.idle": "2021-09-25T04:13:17.942627Z",
          "shell.execute_reply.started": "2021-09-25T04:13:17.932232Z",
          "shell.execute_reply": "2021-09-25T04:13:17.941782Z"
        },
        "trusted": true,
        "id": "TK2_HB3HVDX1"
      },
      "execution_count": null,
      "outputs": []
    },
    {
      "cell_type": "markdown",
      "source": [
        "## Shared Memory"
      ],
      "metadata": {
        "id": "ipbaRvEmVDX1"
      }
    },
    {
      "cell_type": "markdown",
      "source": [
        "So far we have been differentiating between host and device memory, as if device memory were a single kind of memory. But in fact, CUDA has an even more fine-grained [memory hierarchy](https://docs.nvidia.com/cuda/cuda-c-programming-guide/index.html#memory-hierarchy). The device memory we have been utilizing thus far is called **global memory** which is available to any thread or block on the device, can persist for the lifetime of the application, and is a relatively large memory space.\n",
        "\n",
        "We will now discuss how to utilize a region of on-chip device memory called **shared memory**. Shared memory is a programmer defined cache of limited size that [depends on the GPU](https://docs.nvidia.com/cuda/cuda-c-programming-guide/index.html#compute-capabilities) being used and is **shared** between all threads in a block. It is a scarce resource, cannot be accessed by threads outside of the block where it was allocated, and does not persist after a kernel finishes executing. Shared memory however has a much higher bandwidth than global memory and can be used to great effect in many kernels, especially to optimize performance.\n",
        "\n",
        "Here are a few common use cases for shared memory:\n",
        "\n",
        " * Caching memory read from global memory that will need to be read multiple times within a block.\n",
        " * Buffering output from threads so it can be coalesced before writing it back to global memory.\n",
        " * Staging data for scatter/gather operations within a block."
      ],
      "metadata": {
        "id": "58xIrPXGVDX1"
      }
    },
    {
      "cell_type": "markdown",
      "source": [
        "### Shared Memory Syntax"
      ],
      "metadata": {
        "id": "vF7PTJV0VDX1"
      }
    },
    {
      "cell_type": "markdown",
      "source": [
        "Numba provides [functions](https://numba.pydata.org/numba-doc/dev/cuda/memory.html#shared-memory-and-thread-synchronization) for allocating shared memory as well as for synchronizing between threads in a block, which is often necessary after parallel threads read from or write to shared memory.\n",
        "\n",
        "When declaring shared memory, you provide the shape of the shared array, as well as its type, using a [Numba type](https://numba.pydata.org/numba-doc/dev/reference/types.html#numba-types). **The shape of the array must be a constant value**, and therefore, you cannot use arguments passed into the function, or, provided variables like `numba.cuda.blockDim.x`, or the calculated values of `cuda.griddim`. Here is a convoluted example to demonstrate the syntax with comments pointing out the movement from host memory to global device memory, to shared memory, back to global device memory, and finally back to host memory:"
      ],
      "metadata": {
        "id": "fYbl1BMFVDX1"
      }
    },
    {
      "cell_type": "markdown",
      "source": [
        "**Imports**"
      ],
      "metadata": {
        "id": "5R5PZUAKVDX2"
      }
    },
    {
      "cell_type": "markdown",
      "source": [
        "We will use `numba.types` to define the types of values in shared memory."
      ],
      "metadata": {
        "id": "ONhyTnePVDX2"
      }
    },
    {
      "cell_type": "code",
      "source": [
        "import numpy as np\n",
        "from numba import types, cuda"
      ],
      "metadata": {
        "execution": {
          "iopub.status.busy": "2021-09-25T04:13:17.944017Z",
          "iopub.execute_input": "2021-09-25T04:13:17.94431Z",
          "iopub.status.idle": "2021-09-25T04:13:17.948271Z",
          "shell.execute_reply.started": "2021-09-25T04:13:17.944231Z",
          "shell.execute_reply": "2021-09-25T04:13:17.947211Z"
        },
        "trusted": true,
        "id": "2E1a_nr9VDX2"
      },
      "execution_count": null,
      "outputs": []
    },
    {
      "cell_type": "markdown",
      "source": [
        "**Swap Elements Using Shared Memory**"
      ],
      "metadata": {
        "id": "62VgPgK6VDX2"
      }
    },
    {
      "cell_type": "markdown",
      "source": [
        "The following kernel takes an input vector, where each thread will first write one element of the vector to shared memory, and then, after syncing such that all elements have been written to shared memory, will write one element out of shared memory into the swapped output vector.\n",
        "\n",
        "Worth noting is that each thread will be writing a swapped value from shared memory that was written into shared memory by another thread."
      ],
      "metadata": {
        "id": "49dpigVdVDX2"
      }
    },
    {
      "cell_type": "code",
      "source": [
        "@cuda.jit\n",
        "def swap_with_shared(vector, swapped):\n",
        "    # Allocate a 4 element vector containing int32 values in shared memory.\n",
        "    temp = cuda.shared.array(4, dtype=types.int32)\n",
        "\n",
        "    idx = cuda.grid(1)\n",
        "\n",
        "    # Move an element from global memory into shared memory\n",
        "    temp[idx] = vector[idx]\n",
        "\n",
        "    # cuda.syncthreads will force all threads in the block to synchronize here, which is necessary because...\n",
        "    cuda.syncthreads()\n",
        "    #...the following operation is reading an element written to shared memory by another thread.\n",
        "\n",
        "    # Move an element from shared memory back into global memory\n",
        "    swapped[idx] = temp[3 - cuda.threadIdx.x] # swap elements"
      ],
      "metadata": {
        "execution": {
          "iopub.status.busy": "2021-09-25T04:13:17.949491Z",
          "iopub.execute_input": "2021-09-25T04:13:17.949862Z",
          "iopub.status.idle": "2021-09-25T04:13:17.958359Z",
          "shell.execute_reply.started": "2021-09-25T04:13:17.94983Z",
          "shell.execute_reply": "2021-09-25T04:13:17.957614Z"
        },
        "trusted": true,
        "id": "lMDAUwy1VDX2"
      },
      "execution_count": null,
      "outputs": []
    },
    {
      "cell_type": "markdown",
      "source": [
        "**Data Creation**"
      ],
      "metadata": {
        "id": "9JHF1CofVDX3"
      }
    },
    {
      "cell_type": "code",
      "source": [
        "vector = np.arange(4).astype(np.int32)\n",
        "swapped = np.zeros_like(vector)\n",
        "\n",
        "# Move host memory to device (global) memory\n",
        "d_vector = cuda.to_device(vector)\n",
        "d_swapped = cuda.to_device(swapped)"
      ],
      "metadata": {
        "execution": {
          "iopub.status.busy": "2021-09-25T04:13:17.959701Z",
          "iopub.execute_input": "2021-09-25T04:13:17.959953Z",
          "iopub.status.idle": "2021-09-25T04:13:17.969Z",
          "shell.execute_reply.started": "2021-09-25T04:13:17.959924Z",
          "shell.execute_reply": "2021-09-25T04:13:17.968313Z"
        },
        "trusted": true,
        "id": "pCvri4KmVDX3"
      },
      "execution_count": null,
      "outputs": []
    },
    {
      "cell_type": "code",
      "source": [
        "vector"
      ],
      "metadata": {
        "scrolled": true,
        "execution": {
          "iopub.status.busy": "2021-09-25T04:13:17.970182Z",
          "iopub.execute_input": "2021-09-25T04:13:17.970526Z",
          "iopub.status.idle": "2021-09-25T04:13:17.983479Z",
          "shell.execute_reply.started": "2021-09-25T04:13:17.970422Z",
          "shell.execute_reply": "2021-09-25T04:13:17.982851Z"
        },
        "trusted": true,
        "id": "hbFqmK3SVDX3"
      },
      "execution_count": null,
      "outputs": []
    },
    {
      "cell_type": "markdown",
      "source": [
        "** Run Kernel**"
      ],
      "metadata": {
        "id": "AEUPYGWdVDX3"
      }
    },
    {
      "cell_type": "code",
      "source": [
        "swap_with_shared[1, 4](d_vector, d_swapped)"
      ],
      "metadata": {
        "execution": {
          "iopub.status.busy": "2021-09-25T04:13:17.984699Z",
          "iopub.execute_input": "2021-09-25T04:13:17.984952Z",
          "iopub.status.idle": "2021-09-25T04:13:18.232631Z",
          "shell.execute_reply.started": "2021-09-25T04:13:17.98492Z",
          "shell.execute_reply": "2021-09-25T04:13:18.231917Z"
        },
        "trusted": true,
        "id": "6H86g84PVDX3"
      },
      "execution_count": null,
      "outputs": []
    },
    {
      "cell_type": "markdown",
      "source": [
        "**Check Results**"
      ],
      "metadata": {
        "id": "JSDl6LwmVDX3"
      }
    },
    {
      "cell_type": "code",
      "source": [
        "# Move device (global) memory back to the host\n",
        "result = d_swapped.copy_to_host()\n",
        "result"
      ],
      "metadata": {
        "execution": {
          "iopub.status.busy": "2021-09-25T04:13:18.234871Z",
          "iopub.execute_input": "2021-09-25T04:13:18.235403Z",
          "iopub.status.idle": "2021-09-25T04:13:18.242739Z",
          "shell.execute_reply.started": "2021-09-25T04:13:18.235365Z",
          "shell.execute_reply": "2021-09-25T04:13:18.241737Z"
        },
        "trusted": true,
        "id": "-bxm1DFRVDX4"
      },
      "execution_count": null,
      "outputs": []
    },
    {
      "cell_type": "markdown",
      "source": [
        "## Presentation: Shared Memory for Memory Coalescing"
      ],
      "metadata": {
        "id": "_zbCi67WVDX4"
      }
    },
    {
      "cell_type": "markdown",
      "source": [
        "Execute the following cell to load the slides, then click on \"Start Slide Show\" to make them full screen."
      ],
      "metadata": {
        "id": "W7sG7bG4VDX4"
      }
    },
    {
      "cell_type": "code",
      "source": [
        "from IPython.display import IFrame\n",
        "IFrame('https://view.officeapps.live.com/op/view.aspx?src=https://developer.download.nvidia.com/training/courses/C-AC-02-V1/shared_coalescing.pptx', 800, 450)"
      ],
      "metadata": {
        "execution": {
          "iopub.status.busy": "2021-09-25T04:13:18.244358Z",
          "iopub.execute_input": "2021-09-25T04:13:18.244617Z",
          "iopub.status.idle": "2021-09-25T04:13:18.251219Z",
          "shell.execute_reply.started": "2021-09-25T04:13:18.244586Z",
          "shell.execute_reply": "2021-09-25T04:13:18.250319Z"
        },
        "trusted": true,
        "id": "t0XKFgb8VDX4"
      },
      "execution_count": null,
      "outputs": []
    },
    {
      "cell_type": "markdown",
      "source": [
        "## Excercise: Used Shared Memory for Coalesced Reads and Writes With Matrix Transpose"
      ],
      "metadata": {
        "id": "6YDtAGgxVDX4"
      }
    },
    {
      "cell_type": "markdown",
      "source": [
        "In this exercise you will implement what was just demonstrated in the presentation by writing a matrix transpose kernel which, using shared memory, makes coalesced reads and writes to the output matrix in global memory."
      ],
      "metadata": {
        "id": "MI9FfoFWVDX4"
      }
    },
    {
      "cell_type": "markdown",
      "source": [
        "### Coalesced Reads, Uncoalesced Writes"
      ],
      "metadata": {
        "id": "C6mW4wcVVDX4"
      }
    },
    {
      "cell_type": "markdown",
      "source": [
        "As reference, and for performance comparison, here is a naive matrix transpose kernel that makes coalesced reads from input, but uncoalesced writes to output."
      ],
      "metadata": {
        "id": "Io3fHnIQVDX5"
      }
    },
    {
      "cell_type": "markdown",
      "source": [
        "**Imports**"
      ],
      "metadata": {
        "id": "LLj2WAPzVDX5"
      }
    },
    {
      "cell_type": "code",
      "source": [
        "from numba import cuda\n",
        "import numpy as np"
      ],
      "metadata": {
        "execution": {
          "iopub.status.busy": "2021-09-25T04:13:18.252819Z",
          "iopub.execute_input": "2021-09-25T04:13:18.25322Z",
          "iopub.status.idle": "2021-09-25T04:13:18.25911Z",
          "shell.execute_reply.started": "2021-09-25T04:13:18.253185Z",
          "shell.execute_reply": "2021-09-25T04:13:18.258376Z"
        },
        "trusted": true,
        "id": "bAGrzGaUVDX5"
      },
      "execution_count": null,
      "outputs": []
    },
    {
      "cell_type": "markdown",
      "source": [
        "**Data Creation**"
      ],
      "metadata": {
        "id": "LYO_V8Z6VDX5"
      }
    },
    {
      "cell_type": "markdown",
      "source": [
        "Here we create a 4096x4096 input matrix `a` as well as a 4096x4096 output matrix `transposed`, and copy them to the device.\n",
        "\n",
        "We also define a 2-dimensional grid with 2-dimensional blocks to be used below. Note that we have created a grid with a total number of threads equal to the number of elments in the input matrix."
      ],
      "metadata": {
        "id": "2ufgD8HFVDX5"
      }
    },
    {
      "cell_type": "code",
      "source": [
        "n = 4096*4096 # 16M\n",
        "\n",
        "# 2D blocks\n",
        "threads_per_block = (32, 32)\n",
        "#2D grid\n",
        "blocks = (128, 128)\n",
        "\n",
        "# 4096x4096 input and output matrices\n",
        "a = np.arange(n).reshape((4096,4096)).astype(np.float32)\n",
        "transposed = np.zeros_like(a).astype(np.float32)\n",
        "\n",
        "d_a = cuda.to_device(a)\n",
        "d_transposed = cuda.to_device(transposed)"
      ],
      "metadata": {
        "execution": {
          "iopub.status.busy": "2021-09-25T04:13:18.26052Z",
          "iopub.execute_input": "2021-09-25T04:13:18.261006Z",
          "iopub.status.idle": "2021-09-25T04:13:18.398959Z",
          "shell.execute_reply.started": "2021-09-25T04:13:18.260973Z",
          "shell.execute_reply": "2021-09-25T04:13:18.398238Z"
        },
        "trusted": true,
        "id": "UF7h8H3dVDX5"
      },
      "execution_count": null,
      "outputs": []
    },
    {
      "cell_type": "markdown",
      "source": [
        "**Naive Matrix Transpose Kernel**"
      ],
      "metadata": {
        "id": "HnpMclOhVDX6"
      }
    },
    {
      "cell_type": "markdown",
      "source": [
        "This kernel correctly transposes `a`, writing the transposition to `transposed`. It makes reads from `a` in a coalesced fashion, however, its writes to `transposed` are uncoalesced."
      ],
      "metadata": {
        "id": "2YpX9oDpVDX6"
      }
    },
    {
      "cell_type": "code",
      "source": [
        "@cuda.jit\n",
        "def transpose(a, transposed):\n",
        "    x, y = cuda.grid(2)\n",
        "\n",
        "    transposed[x][y] = a[y][x]"
      ],
      "metadata": {
        "execution": {
          "iopub.status.busy": "2021-09-25T04:13:18.400036Z",
          "iopub.execute_input": "2021-09-25T04:13:18.400298Z",
          "iopub.status.idle": "2021-09-25T04:13:18.404914Z",
          "shell.execute_reply.started": "2021-09-25T04:13:18.400266Z",
          "shell.execute_reply": "2021-09-25T04:13:18.404196Z"
        },
        "trusted": true,
        "id": "LJb_UJbHVDX6"
      },
      "execution_count": null,
      "outputs": []
    },
    {
      "cell_type": "markdown",
      "source": [
        "**Check Performance**"
      ],
      "metadata": {
        "id": "nygq0u3zVDX7"
      }
    },
    {
      "cell_type": "code",
      "source": [
        "%timeit transpose[blocks, threads_per_block](d_a, d_transposed); cuda.synchronize()"
      ],
      "metadata": {
        "execution": {
          "iopub.status.busy": "2021-09-25T04:13:18.405958Z",
          "iopub.execute_input": "2021-09-25T04:13:18.406739Z",
          "iopub.status.idle": "2021-09-25T04:13:27.209944Z",
          "shell.execute_reply.started": "2021-09-25T04:13:18.406704Z",
          "shell.execute_reply": "2021-09-25T04:13:27.20917Z"
        },
        "trusted": true,
        "id": "LdBLRU6FVDX7"
      },
      "execution_count": null,
      "outputs": []
    },
    {
      "cell_type": "markdown",
      "source": [
        "**Check Correctness**"
      ],
      "metadata": {
        "id": "C1oQw9sAVDX7"
      }
    },
    {
      "cell_type": "code",
      "source": [
        "result = d_transposed.copy_to_host()\n",
        "expected = a.T"
      ],
      "metadata": {
        "execution": {
          "iopub.status.busy": "2021-09-25T04:13:27.211353Z",
          "iopub.execute_input": "2021-09-25T04:13:27.211786Z",
          "iopub.status.idle": "2021-09-25T04:13:27.242092Z",
          "shell.execute_reply.started": "2021-09-25T04:13:27.21175Z",
          "shell.execute_reply": "2021-09-25T04:13:27.241486Z"
        },
        "trusted": true,
        "id": "FKmHm-npVDX7"
      },
      "execution_count": null,
      "outputs": []
    },
    {
      "cell_type": "code",
      "source": [
        "np.array_equal(result, expected)"
      ],
      "metadata": {
        "execution": {
          "iopub.status.busy": "2021-09-25T04:13:27.243224Z",
          "iopub.execute_input": "2021-09-25T04:13:27.243597Z",
          "iopub.status.idle": "2021-09-25T04:13:27.414433Z",
          "shell.execute_reply.started": "2021-09-25T04:13:27.243565Z",
          "shell.execute_reply": "2021-09-25T04:13:27.413608Z"
        },
        "trusted": true,
        "id": "lDqKzc9zVDX7"
      },
      "execution_count": null,
      "outputs": []
    },
    {
      "cell_type": "markdown",
      "source": [
        "### Refactor for Coalesced Reads and Writes"
      ],
      "metadata": {
        "id": "1UTc35XNVDX7"
      }
    },
    {
      "cell_type": "markdown",
      "source": [
        "Your job will be to refactor the `transpose` kernel to use shared memory and make both reads to and writes from global memory in a coalesced fashion."
      ],
      "metadata": {
        "id": "O3HctnMWVDX8"
      }
    },
    {
      "cell_type": "markdown",
      "source": [
        "**Imports**"
      ],
      "metadata": {
        "id": "1DVK6SPDVDX8"
      }
    },
    {
      "cell_type": "code",
      "source": [
        "import numpy as np\n",
        "from numba import cuda, types as numba_types"
      ],
      "metadata": {
        "execution": {
          "iopub.status.busy": "2021-09-25T04:13:27.415853Z",
          "iopub.execute_input": "2021-09-25T04:13:27.41613Z",
          "iopub.status.idle": "2021-09-25T04:13:27.420245Z",
          "shell.execute_reply.started": "2021-09-25T04:13:27.416097Z",
          "shell.execute_reply": "2021-09-25T04:13:27.419313Z"
        },
        "trusted": true,
        "id": "DaiHvCjGVDX8"
      },
      "execution_count": null,
      "outputs": []
    },
    {
      "cell_type": "markdown",
      "source": [
        "**Data Creation**"
      ],
      "metadata": {
        "id": "6t1raNznVDX8"
      }
    },
    {
      "cell_type": "code",
      "source": [
        "n = 4096*4096 # 16M\n",
        "\n",
        "# 2D blocks\n",
        "threads_per_block = (32, 32)\n",
        "#2D grid\n",
        "blocks = (128, 128)\n",
        "\n",
        "# 4096x4096 input and output matrices\n",
        "a = np.arange(n).reshape((4096,4096)).astype(np.float32)\n",
        "transposed = np.zeros_like(a).astype(np.float32)\n",
        "\n",
        "d_a = cuda.to_device(a)\n",
        "d_transposed = cuda.to_device(transposed)"
      ],
      "metadata": {
        "execution": {
          "iopub.status.busy": "2021-09-25T04:13:27.421612Z",
          "iopub.execute_input": "2021-09-25T04:13:27.422159Z",
          "iopub.status.idle": "2021-09-25T04:13:27.562025Z",
          "shell.execute_reply.started": "2021-09-25T04:13:27.422127Z",
          "shell.execute_reply": "2021-09-25T04:13:27.561301Z"
        },
        "trusted": true,
        "id": "I6S6pQNhVDX8"
      },
      "execution_count": null,
      "outputs": []
    },
    {
      "cell_type": "markdown",
      "source": [
        "**Write a Transpose Kernel that Uses Shared Memory**"
      ],
      "metadata": {
        "id": "JuGk0GZcVDX8"
      }
    },
    {
      "cell_type": "markdown",
      "source": [
        "Complete the TODOs inside the `tile_transpose` kernel definition.\n",
        "\n",
        "If you get stuck, feel free to check out [the solution](../edit/solutions/tile_transpose_solution.py)."
      ],
      "metadata": {
        "id": "zOOklR8bVDX9"
      }
    },
    {
      "cell_type": "code",
      "source": [
        "@cuda.jit\n",
        "def tile_transpose(a, transposed):\n",
        "    # `tile_transpose` assumes it is launched with a 32x32 block dimension,\n",
        "    # and that `a` is a multiple of these dimensions.\n",
        "\n",
        "    # 1) Create 32x32 shared memory array.\n",
        "\n",
        "    tile = cuda.shared.array((32, 32), numba_types.int32)\n",
        "\n",
        "\n",
        "    # Compute offsets into global input array. Recall for coalesced access we want to map threadIdx.x increments to\n",
        "    # the fastest changing index in the data, i.e. the column in our array.\n",
        "    # Note: `a_col` and `a_row` are already correct.\n",
        "    a_col = cuda.blockIdx.x * cuda.blockDim.x + cuda.threadIdx.x\n",
        "    a_row = cuda.blockIdx.y * cuda.blockDim.y + cuda.threadIdx.y\n",
        "\n",
        "    # 2) Make coalesced read from global memory (using grid indices)\n",
        "    # into shared memory array (using thread indices).\n",
        "\n",
        "    tile[cuda.threadIdx.y, cuda.threadIdx.x] = a[a_row, a_col]\n",
        "\n",
        "    # 3) Wait for all threads in the block to finish updating shared memory.\n",
        "\n",
        "    cuda.syncthreads()\n",
        "\n",
        "\n",
        "    # 4) Calculate transposed location for the shared memory array tile\n",
        "    # to be written back to global memory. Note that blockIdx.y*blockDim.y\n",
        "    # and blockIdx.x* blockDim.x are swapped (because we want to write to the\n",
        "    # transpose locations), but we want to keep access coalesced, so match up the\n",
        "    # threadIdx.x to the fastest changing index, i.e. the column./\n",
        "    # Note: `t_col` and `t_row` are already correct.\n",
        "    t_col = cuda.blockIdx.y * cuda.blockDim.y + cuda.threadIdx.x\n",
        "    t_row = cuda.blockIdx.x * cuda.blockDim.x + cuda.threadIdx.y\n",
        "\n",
        "    # 5) Write from shared memory (using thread indices)\n",
        "    # back to global memory (using grid indices)\n",
        "    # transposing each element within the shared memory array.\n",
        "\n",
        "    transposed[t_row, t_col] = tile[cuda.threadIdx.x, cuda.threadIdx.y]"
      ],
      "metadata": {
        "execution": {
          "iopub.status.busy": "2021-09-25T04:13:27.563382Z",
          "iopub.execute_input": "2021-09-25T04:13:27.563642Z",
          "iopub.status.idle": "2021-09-25T04:13:27.571345Z",
          "shell.execute_reply.started": "2021-09-25T04:13:27.563606Z",
          "shell.execute_reply": "2021-09-25T04:13:27.570666Z"
        },
        "trusted": true,
        "id": "rJtcwwzhVDX9"
      },
      "execution_count": null,
      "outputs": []
    },
    {
      "cell_type": "markdown",
      "source": [
        "**Check Performance**"
      ],
      "metadata": {
        "id": "0QDuG-nVVDX9"
      }
    },
    {
      "cell_type": "markdown",
      "source": [
        "Check the performance of your refactored transpose kernel. You should see a speedup compared to the baseline transpose performance above."
      ],
      "metadata": {
        "id": "qYj4dQCYVDX9"
      }
    },
    {
      "cell_type": "code",
      "source": [
        "%timeit tile_transpose[blocks, threads_per_block](d_a, d_transposed); cuda.synchronize()"
      ],
      "metadata": {
        "execution": {
          "iopub.status.busy": "2021-09-25T04:13:27.572702Z",
          "iopub.execute_input": "2021-09-25T04:13:27.573169Z",
          "iopub.status.idle": "2021-09-25T04:13:33.747547Z",
          "shell.execute_reply.started": "2021-09-25T04:13:27.573112Z",
          "shell.execute_reply": "2021-09-25T04:13:33.746643Z"
        },
        "trusted": true,
        "id": "bTRkL8l3VDX-"
      },
      "execution_count": null,
      "outputs": []
    },
    {
      "cell_type": "markdown",
      "source": [
        "**Check Correctness**"
      ],
      "metadata": {
        "id": "LQ5RYGf8VDX-"
      }
    },
    {
      "cell_type": "code",
      "source": [
        "result = d_transposed.copy_to_host()\n",
        "expected = a.T"
      ],
      "metadata": {
        "execution": {
          "iopub.status.busy": "2021-09-25T04:13:33.748781Z",
          "iopub.execute_input": "2021-09-25T04:13:33.749038Z",
          "iopub.status.idle": "2021-09-25T04:13:33.780976Z",
          "shell.execute_reply.started": "2021-09-25T04:13:33.748997Z",
          "shell.execute_reply": "2021-09-25T04:13:33.780345Z"
        },
        "trusted": true,
        "id": "W2Yjiw0uVDX-"
      },
      "execution_count": null,
      "outputs": []
    },
    {
      "cell_type": "code",
      "source": [
        "np.array_equal(result, expected)"
      ],
      "metadata": {
        "scrolled": true,
        "execution": {
          "iopub.status.busy": "2021-09-25T04:13:33.78207Z",
          "iopub.execute_input": "2021-09-25T04:13:33.782389Z",
          "iopub.status.idle": "2021-09-25T04:13:33.961127Z",
          "shell.execute_reply.started": "2021-09-25T04:13:33.782354Z",
          "shell.execute_reply": "2021-09-25T04:13:33.960074Z"
        },
        "trusted": true,
        "id": "_fmjZHCzVDX-"
      },
      "execution_count": null,
      "outputs": []
    },
    {
      "cell_type": "markdown",
      "source": [
        "### Why Such a Small Improvement?"
      ],
      "metadata": {
        "id": "hz2hX-_DVDX-"
      }
    },
    {
      "cell_type": "markdown",
      "source": [
        "While this is a significant speedup for only a few lines of code, but you might think that the performance improvement is not as stark as you expected based on earlier performance improvements to use coalesced access patterns. There are 2 main reasons for this:\n",
        "\n",
        "1. The naive transpose kernel was making coalesced reads, so, your refactored version only optimized half of the global memory access throughout the execution of the kernel.\n",
        "2. Your code as written suffers from something called shared memory bank conflicts, a topic to which we will now turn our attention."
      ],
      "metadata": {
        "id": "a87ri-sJVDX-"
      }
    },
    {
      "cell_type": "markdown",
      "source": [
        "## Presentation: Memory Bank Conflicts"
      ],
      "metadata": {
        "id": "8Ly6Y23aVDX_"
      }
    },
    {
      "cell_type": "markdown",
      "source": [
        "Execute the following cell to load the slides, then click on \"Start Slide Show\" to make them full screen."
      ],
      "metadata": {
        "id": "A0GQiepcVDX_"
      }
    },
    {
      "cell_type": "code",
      "source": [
        "from IPython.display import IFrame\n",
        "IFrame('https://view.officeapps.live.com/op/view.aspx?src=https://developer.download.nvidia.com/training/courses/C-AC-02-V1/bank_conflicts.pptx', 800, 450)"
      ],
      "metadata": {
        "execution": {
          "iopub.status.busy": "2021-09-25T04:13:33.962985Z",
          "iopub.execute_input": "2021-09-25T04:13:33.964014Z",
          "iopub.status.idle": "2021-09-25T04:13:33.971236Z",
          "shell.execute_reply.started": "2021-09-25T04:13:33.963952Z",
          "shell.execute_reply": "2021-09-25T04:13:33.97015Z"
        },
        "trusted": true,
        "id": "CgeZy7wqVDX_"
      },
      "execution_count": null,
      "outputs": []
    },
    {
      "cell_type": "markdown",
      "source": [
        "## Assessment: Resolve Memory Bank Conflicts"
      ],
      "metadata": {
        "id": "uOXyPIcXVDX_"
      }
    },
    {
      "cell_type": "markdown",
      "source": [
        "As a final exercise, and to get credit towards a certificate in the course for this final section of the workshop, you will refactor the transpose kernel utilizing shared memory to be shared memory bank conflict free."
      ],
      "metadata": {
        "id": "MLQASVnHVDX_"
      }
    },
    {
      "cell_type": "markdown",
      "source": [
        "### Imports"
      ],
      "metadata": {
        "id": "oHNiLMYLVDX_"
      }
    },
    {
      "cell_type": "code",
      "source": [
        "import numpy as np\n",
        "from numba import cuda, types as numba_types"
      ],
      "metadata": {
        "execution": {
          "iopub.status.busy": "2021-09-25T04:13:33.972876Z",
          "iopub.execute_input": "2021-09-25T04:13:33.973667Z",
          "iopub.status.idle": "2021-09-25T04:13:33.981189Z",
          "shell.execute_reply.started": "2021-09-25T04:13:33.973634Z",
          "shell.execute_reply": "2021-09-25T04:13:33.980333Z"
        },
        "trusted": true,
        "id": "pq1BI32MVDYA"
      },
      "execution_count": null,
      "outputs": []
    },
    {
      "cell_type": "markdown",
      "source": [
        "### Data Creation"
      ],
      "metadata": {
        "id": "Da7zkYVPVDYA"
      }
    },
    {
      "cell_type": "code",
      "source": [
        "n = 4096*4096 # 16M\n",
        "threads_per_block = (32, 32)\n",
        "blocks = (128, 128)\n",
        "\n",
        "a = np.arange(n).reshape((4096,4096)).astype(np.float32)\n",
        "transposed = np.zeros_like(a).astype(np.float32)\n",
        "\n",
        "d_a = cuda.to_device(a)\n",
        "d_transposed = cuda.to_device(transposed)"
      ],
      "metadata": {
        "execution": {
          "iopub.status.busy": "2021-09-25T04:13:33.982381Z",
          "iopub.execute_input": "2021-09-25T04:13:33.983112Z",
          "iopub.status.idle": "2021-09-25T04:13:34.165624Z",
          "shell.execute_reply.started": "2021-09-25T04:13:33.983077Z",
          "shell.execute_reply": "2021-09-25T04:13:34.164822Z"
        },
        "trusted": true,
        "id": "jc_Ogt4kVDYA"
      },
      "execution_count": null,
      "outputs": []
    },
    {
      "cell_type": "markdown",
      "source": [
        "### Make the Kernel Bank Conflict Free"
      ],
      "metadata": {
        "id": "cJKd_Os4VDYB"
      }
    },
    {
      "cell_type": "markdown",
      "source": [
        "The `tile_transpose_conflict_free` kernel is a working matrix transpose kernel which utilizes shared memory so that both reads from and writes to global memory are coalesced. Your job is to refactor the kernel so that it does not suffer from memory bank conflicts.\n",
        "\n",
        "**Note:** Because this final exercise counts towards certification in the course, a solution will not be provided."
      ],
      "metadata": {
        "id": "Dhv155ORVDYB"
      }
    },
    {
      "cell_type": "code",
      "source": [
        "@cuda.jit\n",
        "def tile_transpose_conflict_free(a, transposed):\n",
        "    # `tile_transpose` assumes it is launched with a 32x32 block dimension,\n",
        "    # and that `a` is a multiple of these dimensions.\n",
        "\n",
        "    # 1) Create 32x32 shared memory array.\n",
        "    tile = cuda.shared.array((32, 33), numba_types.int32)\n",
        "\n",
        "    # Compute offsets into global input array.\n",
        "    x = cuda.blockIdx.x * cuda.blockDim.x + cuda.threadIdx.x\n",
        "    y = cuda.blockIdx.y * cuda.blockDim.y + cuda.threadIdx.y\n",
        "\n",
        "    # 2) Make coalesced read from global memory into shared memory array.\n",
        "    # Note the use of local thread indices for the shared memory write,\n",
        "    # and global offsets for global memory read.\n",
        "    tile[cuda.threadIdx.y, cuda.threadIdx.x] = a[y, x]\n",
        "\n",
        "    # 3) Wait for all threads in the block to finish updating shared memory.\n",
        "    cuda.syncthreads()\n",
        "\n",
        "    # 4) Calculate transposed location for the shared memory array tile\n",
        "    # to be written back to global memory.\n",
        "    t_x = cuda.blockIdx.y * cuda.blockDim.y + cuda.threadIdx.x\n",
        "    t_y = cuda.blockIdx.x * cuda.blockDim.x + cuda.threadIdx.y\n",
        "\n",
        "    # 5) Write back to global memory,\n",
        "    # transposing each element within the shared memory array.\n",
        "    transposed[t_y, t_x] = tile[cuda.threadIdx.x, cuda.threadIdx.y]"
      ],
      "metadata": {
        "execution": {
          "iopub.status.busy": "2021-09-25T04:13:34.166865Z",
          "iopub.execute_input": "2021-09-25T04:13:34.167392Z",
          "iopub.status.idle": "2021-09-25T04:13:34.175907Z",
          "shell.execute_reply.started": "2021-09-25T04:13:34.167355Z",
          "shell.execute_reply": "2021-09-25T04:13:34.175124Z"
        },
        "trusted": true,
        "id": "VIdXwk4DVDYB"
      },
      "execution_count": null,
      "outputs": []
    },
    {
      "cell_type": "markdown",
      "source": [
        "### Check Performance"
      ],
      "metadata": {
        "id": "CK1pj7G0VDYB"
      }
    },
    {
      "cell_type": "markdown",
      "source": [
        "Assuming you have correctly resolved the bank conflicts, this kernel should run significantly faster than both the naive transpose kernel, and, the shared memory (with bank conflicts) transpose kernel. In order to pass the assessment, your kernel will need to run on average in less than 840 µs.\n",
        "\n",
        "The first value printed by running the following cell will give you the average run time of your kernel."
      ],
      "metadata": {
        "id": "aYRoobTSVDYB"
      }
    },
    {
      "cell_type": "code",
      "source": [
        "%timeit tile_transpose_conflict_free[blocks, threads_per_block](d_a, d_transposed); cuda.synchronize()"
      ],
      "metadata": {
        "scrolled": true,
        "execution": {
          "iopub.status.busy": "2021-09-25T04:13:34.177396Z",
          "iopub.execute_input": "2021-09-25T04:13:34.177643Z",
          "iopub.status.idle": "2021-09-25T04:13:39.252552Z",
          "shell.execute_reply.started": "2021-09-25T04:13:34.177605Z",
          "shell.execute_reply": "2021-09-25T04:13:39.251494Z"
        },
        "trusted": true,
        "id": "UG4NytlwVDYC"
      },
      "execution_count": null,
      "outputs": []
    },
    {
      "cell_type": "markdown",
      "source": [
        "### Check Correctness"
      ],
      "metadata": {
        "id": "TRdQDWE8VDYC"
      }
    },
    {
      "cell_type": "markdown",
      "source": [
        "In order to pass the assessment, your kernel also needs to work correctly. Run the following 2 cells to confirm this is true."
      ],
      "metadata": {
        "id": "bDtjkiEnVDYC"
      }
    },
    {
      "cell_type": "code",
      "source": [
        "result = d_transposed.copy_to_host()\n",
        "expected = a.T"
      ],
      "metadata": {
        "execution": {
          "iopub.status.busy": "2021-09-25T04:13:39.254233Z",
          "iopub.execute_input": "2021-09-25T04:13:39.254563Z",
          "iopub.status.idle": "2021-09-25T04:13:39.286273Z",
          "shell.execute_reply.started": "2021-09-25T04:13:39.254524Z",
          "shell.execute_reply": "2021-09-25T04:13:39.285612Z"
        },
        "trusted": true,
        "id": "wWUjyBWmVDYC"
      },
      "execution_count": null,
      "outputs": []
    },
    {
      "cell_type": "code",
      "source": [
        "np.array_equal(result, expected)"
      ],
      "metadata": {
        "execution": {
          "iopub.status.busy": "2021-09-25T04:13:39.287493Z",
          "iopub.execute_input": "2021-09-25T04:13:39.287747Z",
          "iopub.status.idle": "2021-09-25T04:13:39.460995Z",
          "shell.execute_reply.started": "2021-09-25T04:13:39.287714Z",
          "shell.execute_reply": "2021-09-25T04:13:39.460212Z"
        },
        "trusted": true,
        "id": "FI434_24VDYD"
      },
      "execution_count": null,
      "outputs": []
    },
    {
      "cell_type": "markdown",
      "source": [
        "### Run the Assessment"
      ],
      "metadata": {
        "id": "z2XAbJaPVDYD"
      }
    },
    {
      "cell_type": "markdown",
      "source": [
        "If you have completed the refactor, observed it's run time to be less than 840 µs, and confirmed that it runs correctly, execute the following cells to run the assessment against your kernel definition."
      ],
      "metadata": {
        "id": "tIlOtbIPVDYE"
      }
    },
    {
      "cell_type": "markdown",
      "source": [
        "## Summary"
      ],
      "metadata": {
        "id": "ZWcZPaFfVDYE"
      }
    },
    {
      "cell_type": "markdown",
      "source": [
        "Now that you have completed this session you are able to:\n",
        "\n",
        "* Write CUDA kernels that benefit from coalesced memory access patterns.\n",
        "* Work with multi-dimensional grids and thread blocks.\n",
        "* Use shared memory to coordinate threads within a block.\n",
        "* Use shared memory to facilitate coalesced memory access patterns.\n",
        "* Resolve shared memory bank conflicts."
      ],
      "metadata": {
        "id": "jSmrMQD2VDYE"
      }
    },
    {
      "cell_type": "code",
      "source": [],
      "metadata": {
        "id": "tqdY3IIIVDYE"
      },
      "execution_count": null,
      "outputs": []
    }
  ]
}